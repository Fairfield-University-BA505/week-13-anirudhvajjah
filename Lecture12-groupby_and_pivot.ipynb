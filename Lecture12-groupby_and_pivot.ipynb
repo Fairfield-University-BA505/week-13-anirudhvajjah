{
 "cells": [
  {
   "cell_type": "markdown",
   "metadata": {
    "slideshow": {
     "slide_type": "slide"
    }
   },
   "source": [
    "![DSB logo](img/Dolan.jpg)\n",
    "# Groupby and Pivoting\n",
    "\n",
    "## PD4E Chapter 10: Groupby Operations: Split-Apply-Combine\n",
    "### How do you read/manipulate/store data in Python?"
   ]
  },
  {
   "cell_type": "markdown",
   "metadata": {
    "slideshow": {
     "slide_type": "slide"
    }
   },
   "source": [
    "# What You Learned in Python/Pandas that could Apply Here\n",
    "\n",
    "You will need following knowledge from the first half of this course:\n",
    "1. functions\n",
    "2. subsetting/slicing data"
   ]
  },
  {
   "cell_type": "markdown",
   "metadata": {
    "slideshow": {
     "slide_type": "slide"
    }
   },
   "source": [
    "# What You will Learn in this Chapter\n",
    "\n",
    "You will learn following techniques in this chapter:\n",
    "1. Groupby operations to aggregate, transform, and filter data\n",
    "2. Built-in and custom user function to perform groupby functions\n",
    "3. creating _pivot tables_ from DataFrames"
   ]
  },
  {
   "cell_type": "markdown",
   "metadata": {
    "slideshow": {
     "slide_type": "slide"
    }
   },
   "source": [
    "# What do we mean by Groupby operations?\n",
    "\n",
    "- Groupby operations is how we aggregate, transform and filter data\n",
    "    - you will learn the `SQL GROUPBY` in BA 510\n",
    "- We follow the mantra below:\n",
    "    - data is separated into different parts based on their feature(s);\n",
    "    - we apply applicable function(s) to different parts of the data;\n",
    "    - then we combine different parts of processed data back as the result."
   ]
  },
  {
   "cell_type": "markdown",
   "metadata": {
    "slideshow": {
     "slide_type": "slide"
    }
   },
   "source": [
    "# Why do we need to do this?\n",
    "\n",
    "- we may need to select subsets of a DataFrame using certain conditions\n",
    "    - like how we calculate the `final_pay` based on `work_load` last week\n",
    "- or in data analytics\n",
    "    - we have different standardized processing pipelines for _categorical_ and _continuous_ features"
   ]
  },
  {
   "cell_type": "markdown",
   "metadata": {
    "slideshow": {
     "slide_type": "slide"
    }
   },
   "source": [
    "# Aggregation\n",
    "\n",
    "- Aggregation is a term we use in databases, or particularly data warehouses\n",
    "    - aggregation also known as summarization, it means data reduction\n",
    "    - most of descriptive stats, such as count, mean, standard deviation, are summarization methods\n",
    "    - the data size is essentially smaller"
   ]
  },
  {
   "cell_type": "markdown",
   "metadata": {
    "slideshow": {
     "slide_type": "slide"
    }
   },
   "source": [
    "# Aggregation Examples\n",
    "\n",
    "- it refers to moving from a more specific data to a more abstract level\n",
    "    - e.g., if the actual data is daily-based, and we want to get the monthly sum/average of the data\n",
    "    - or if the observation are scattered in different years, and we want to look at the annual averages"
   ]
  },
  {
   "cell_type": "code",
   "execution_count": 1,
   "metadata": {
    "slideshow": {
     "slide_type": "subslide"
    }
   },
   "outputs": [
    {
     "data": {
      "text/html": [
       "<div>\n",
       "<style scoped>\n",
       "    .dataframe tbody tr th:only-of-type {\n",
       "        vertical-align: middle;\n",
       "    }\n",
       "\n",
       "    .dataframe tbody tr th {\n",
       "        vertical-align: top;\n",
       "    }\n",
       "\n",
       "    .dataframe thead th {\n",
       "        text-align: right;\n",
       "    }\n",
       "</style>\n",
       "<table border=\"1\" class=\"dataframe\">\n",
       "  <thead>\n",
       "    <tr style=\"text-align: right;\">\n",
       "      <th></th>\n",
       "      <th>country</th>\n",
       "      <th>continent</th>\n",
       "      <th>year</th>\n",
       "      <th>lifeExp</th>\n",
       "      <th>pop</th>\n",
       "      <th>gdpPercap</th>\n",
       "    </tr>\n",
       "  </thead>\n",
       "  <tbody>\n",
       "    <tr>\n",
       "      <th>0</th>\n",
       "      <td>Afghanistan</td>\n",
       "      <td>Asia</td>\n",
       "      <td>1952</td>\n",
       "      <td>28.801</td>\n",
       "      <td>8425333</td>\n",
       "      <td>779.445314</td>\n",
       "    </tr>\n",
       "    <tr>\n",
       "      <th>1</th>\n",
       "      <td>Afghanistan</td>\n",
       "      <td>Asia</td>\n",
       "      <td>1957</td>\n",
       "      <td>30.332</td>\n",
       "      <td>9240934</td>\n",
       "      <td>820.853030</td>\n",
       "    </tr>\n",
       "    <tr>\n",
       "      <th>2</th>\n",
       "      <td>Afghanistan</td>\n",
       "      <td>Asia</td>\n",
       "      <td>1962</td>\n",
       "      <td>31.997</td>\n",
       "      <td>10267083</td>\n",
       "      <td>853.100710</td>\n",
       "    </tr>\n",
       "  </tbody>\n",
       "</table>\n",
       "</div>"
      ],
      "text/plain": [
       "       country continent  year  lifeExp       pop   gdpPercap\n",
       "0  Afghanistan      Asia  1952   28.801   8425333  779.445314\n",
       "1  Afghanistan      Asia  1957   30.332   9240934  820.853030\n",
       "2  Afghanistan      Asia  1962   31.997  10267083  853.100710"
      ]
     },
     "execution_count": 1,
     "metadata": {},
     "output_type": "execute_result"
    }
   ],
   "source": [
    "# an example of aggregation\n",
    "# load the gapminder data\n",
    "# please change your PATH to `'/srv/data/my_shared_data_folder/ba505-data/gapminder.tsv'`\n",
    "import pandas as pd\n",
    "df = pd.read_csv('/srv/data/my_shared_data_folder/ba505-data/gapminder.tsv', sep='\\t')\n",
    "df.head(3)"
   ]
  },
  {
   "cell_type": "code",
   "execution_count": 6,
   "metadata": {
    "slideshow": {
     "slide_type": "subslide"
    }
   },
   "outputs": [
    {
     "data": {
      "text/plain": [
       "year\n",
       "1952    49.057620\n",
       "1957    51.507401\n",
       "1962    53.609249\n",
       "1967    55.678290\n",
       "1972    57.647386\n",
       "1977    59.570157\n",
       "1982    61.533197\n",
       "1987    63.212613\n",
       "1992    64.160338\n",
       "1997    65.014676\n",
       "2002    65.694923\n",
       "2007    67.007423\n",
       "Name: lifeExp, dtype: float64"
      ]
     },
     "execution_count": 6,
     "metadata": {},
     "output_type": "execute_result"
    }
   ],
   "source": [
    "# calculate the annual average life expectancy for each year\n",
    "df.groupby('year')['lifeExp'].mean()"
   ]
  },
  {
   "cell_type": "code",
   "execution_count": 9,
   "metadata": {
    "slideshow": {
     "slide_type": "fragment"
    }
   },
   "outputs": [
    {
     "data": {
      "text/plain": [
       "array([1952, 1957, 1962, 1967, 1972, 1977, 1982, 1987, 1992, 1997, 2002,\n",
       "       2007])"
      ]
     },
     "execution_count": 9,
     "metadata": {},
     "output_type": "execute_result"
    }
   ],
   "source": [
    "# this is the longer alternative\n",
    "df['year'].unique()"
   ]
  },
  {
   "cell_type": "code",
   "execution_count": 10,
   "metadata": {
    "slideshow": {
     "slide_type": "fragment"
    }
   },
   "outputs": [
    {
     "data": {
      "text/plain": [
       "49.057619718309866"
      ]
     },
     "execution_count": 10,
     "metadata": {},
     "output_type": "execute_result"
    }
   ],
   "source": [
    "df1952 = df[df['year'] == 1952]\n",
    "df1952mean = df1952['lifeExp'].mean()\n",
    "df1952mean"
   ]
  },
  {
   "cell_type": "markdown",
   "metadata": {
    "slideshow": {
     "slide_type": "slide"
    }
   },
   "source": [
    "# Built-in Aggregation Methods\n",
    "\n",
    "- In above example, you noticed that we calculate the average life expactacies for each individual year\n",
    "    - average is one of the __aggregation method__\n",
    "    - there are other aggregation methods available\n",
    "    - refer to PD4E pp. 192 for all applicable aggregation methods"
   ]
  },
  {
   "cell_type": "code",
   "execution_count": 12,
   "metadata": {
    "slideshow": {
     "slide_type": "subslide"
    }
   },
   "outputs": [
    {
     "data": {
      "text/html": [
       "<div>\n",
       "<style scoped>\n",
       "    .dataframe tbody tr th:only-of-type {\n",
       "        vertical-align: middle;\n",
       "    }\n",
       "\n",
       "    .dataframe tbody tr th {\n",
       "        vertical-align: top;\n",
       "    }\n",
       "\n",
       "    .dataframe thead th {\n",
       "        text-align: right;\n",
       "    }\n",
       "</style>\n",
       "<table border=\"1\" class=\"dataframe\">\n",
       "  <thead>\n",
       "    <tr style=\"text-align: right;\">\n",
       "      <th></th>\n",
       "      <th>count</th>\n",
       "      <th>mean</th>\n",
       "      <th>std</th>\n",
       "      <th>min</th>\n",
       "      <th>25%</th>\n",
       "      <th>50%</th>\n",
       "      <th>75%</th>\n",
       "      <th>max</th>\n",
       "    </tr>\n",
       "    <tr>\n",
       "      <th>continent</th>\n",
       "      <th></th>\n",
       "      <th></th>\n",
       "      <th></th>\n",
       "      <th></th>\n",
       "      <th></th>\n",
       "      <th></th>\n",
       "      <th></th>\n",
       "      <th></th>\n",
       "    </tr>\n",
       "  </thead>\n",
       "  <tbody>\n",
       "    <tr>\n",
       "      <th>Africa</th>\n",
       "      <td>624.0</td>\n",
       "      <td>48.865330</td>\n",
       "      <td>9.150210</td>\n",
       "      <td>23.599</td>\n",
       "      <td>42.37250</td>\n",
       "      <td>47.7920</td>\n",
       "      <td>54.41150</td>\n",
       "      <td>76.442</td>\n",
       "    </tr>\n",
       "    <tr>\n",
       "      <th>Americas</th>\n",
       "      <td>300.0</td>\n",
       "      <td>64.658737</td>\n",
       "      <td>9.345088</td>\n",
       "      <td>37.579</td>\n",
       "      <td>58.41000</td>\n",
       "      <td>67.0480</td>\n",
       "      <td>71.69950</td>\n",
       "      <td>80.653</td>\n",
       "    </tr>\n",
       "    <tr>\n",
       "      <th>Asia</th>\n",
       "      <td>396.0</td>\n",
       "      <td>60.064903</td>\n",
       "      <td>11.864532</td>\n",
       "      <td>28.801</td>\n",
       "      <td>51.42625</td>\n",
       "      <td>61.7915</td>\n",
       "      <td>69.50525</td>\n",
       "      <td>82.603</td>\n",
       "    </tr>\n",
       "    <tr>\n",
       "      <th>Europe</th>\n",
       "      <td>360.0</td>\n",
       "      <td>71.903686</td>\n",
       "      <td>5.433178</td>\n",
       "      <td>43.585</td>\n",
       "      <td>69.57000</td>\n",
       "      <td>72.2410</td>\n",
       "      <td>75.45050</td>\n",
       "      <td>81.757</td>\n",
       "    </tr>\n",
       "    <tr>\n",
       "      <th>Oceania</th>\n",
       "      <td>24.0</td>\n",
       "      <td>74.326208</td>\n",
       "      <td>3.795611</td>\n",
       "      <td>69.120</td>\n",
       "      <td>71.20500</td>\n",
       "      <td>73.6650</td>\n",
       "      <td>77.55250</td>\n",
       "      <td>81.235</td>\n",
       "    </tr>\n",
       "  </tbody>\n",
       "</table>\n",
       "</div>"
      ],
      "text/plain": [
       "           count       mean        std     min       25%      50%       75%  \\\n",
       "continent                                                                     \n",
       "Africa     624.0  48.865330   9.150210  23.599  42.37250  47.7920  54.41150   \n",
       "Americas   300.0  64.658737   9.345088  37.579  58.41000  67.0480  71.69950   \n",
       "Asia       396.0  60.064903  11.864532  28.801  51.42625  61.7915  69.50525   \n",
       "Europe     360.0  71.903686   5.433178  43.585  69.57000  72.2410  75.45050   \n",
       "Oceania     24.0  74.326208   3.795611  69.120  71.20500  73.6650  77.55250   \n",
       "\n",
       "              max  \n",
       "continent          \n",
       "Africa     76.442  \n",
       "Americas   80.653  \n",
       "Asia       82.603  \n",
       "Europe     81.757  \n",
       "Oceania    81.235  "
      ]
     },
     "execution_count": 12,
     "metadata": {},
     "output_type": "execute_result"
    }
   ],
   "source": [
    "# note that ball  columns in the \n",
    "# results below can be aggregation methods\n",
    "df.groupby('continent')['lifeExp'].describe()"
   ]
  },
  {
   "cell_type": "markdown",
   "metadata": {
    "slideshow": {
     "slide_type": "slide"
    }
   },
   "source": [
    "# Aggregation Methods\n",
    "\n",
    "- So far we have been using aggregation methods directly\n",
    "- but in general we can use the `.agg()` method for any aggregation function\n",
    "    - you should consider `.agg()` as a special case of `.apply()`\n",
    "- there are two use cases for using `.agg()`\n",
    "    - we can only use `pandas` built-in aggregation methods (column 1 in Table 10.1) directly, but sometimes we prefer using the `numpy` alternatives (column 2 in Table 10.1) - since they are much faster\n",
    "    - we can even use custom aggregation functions/methods"
   ]
  },
  {
   "cell_type": "code",
   "execution_count": 19,
   "metadata": {
    "slideshow": {
     "slide_type": "subslide"
    }
   },
   "outputs": [
    {
     "name": "stdout",
     "output_type": "stream",
     "text": [
      "CPU times: user 2 µs, sys: 1e+03 ns, total: 3 µs\n",
      "Wall time: 5.01 µs\n"
     ]
    },
    {
     "data": {
      "text/plain": [
       "continent\n",
       "Africa      48.865330\n",
       "Americas    64.658737\n",
       "Asia        60.064903\n",
       "Europe      71.903686\n",
       "Oceania     74.326208\n",
       "Name: lifeExp, dtype: float64"
      ]
     },
     "execution_count": 19,
     "metadata": {},
     "output_type": "execute_result"
    }
   ],
   "source": [
    "# numpy method\n",
    "%time\n",
    "import numpy as np\n",
    "df.groupby('continent')['lifeExp'].agg(np.mean)"
   ]
  },
  {
   "cell_type": "code",
   "execution_count": null,
   "metadata": {},
   "outputs": [],
   "source": []
  },
  {
   "cell_type": "code",
   "execution_count": 20,
   "metadata": {
    "slideshow": {
     "slide_type": "subslide"
    }
   },
   "outputs": [],
   "source": [
    "# custom aggregation function\n",
    "def my_mean(values): # our own version of mean calculation\n",
    "    # get total number of values\n",
    "    return sum(values)/len(values)"
   ]
  },
  {
   "cell_type": "code",
   "execution_count": 21,
   "metadata": {
    "slideshow": {
     "slide_type": "fragment"
    }
   },
   "outputs": [
    {
     "data": {
      "text/plain": [
       "continent\n",
       "Africa      48.865330\n",
       "Americas    64.658737\n",
       "Asia        60.064903\n",
       "Europe      71.903686\n",
       "Oceania     74.326208\n",
       "Name: lifeExp, dtype: float64"
      ]
     },
     "execution_count": 21,
     "metadata": {},
     "output_type": "execute_result"
    }
   ],
   "source": [
    "df.groupby('continent')['lifeExp'].agg(my_mean)"
   ]
  },
  {
   "cell_type": "code",
   "execution_count": 24,
   "metadata": {
    "slideshow": {
     "slide_type": "subslide"
    }
   },
   "outputs": [
    {
     "data": {
      "text/html": [
       "<div>\n",
       "<style scoped>\n",
       "    .dataframe tbody tr th:only-of-type {\n",
       "        vertical-align: middle;\n",
       "    }\n",
       "\n",
       "    .dataframe tbody tr th {\n",
       "        vertical-align: top;\n",
       "    }\n",
       "\n",
       "    .dataframe thead th {\n",
       "        text-align: right;\n",
       "    }\n",
       "</style>\n",
       "<table border=\"1\" class=\"dataframe\">\n",
       "  <thead>\n",
       "    <tr style=\"text-align: right;\">\n",
       "      <th></th>\n",
       "      <th>count_nonzero</th>\n",
       "      <th>mean</th>\n",
       "      <th>std</th>\n",
       "      <th>amin</th>\n",
       "      <th>amax</th>\n",
       "    </tr>\n",
       "    <tr>\n",
       "      <th>continent</th>\n",
       "      <th></th>\n",
       "      <th></th>\n",
       "      <th></th>\n",
       "      <th></th>\n",
       "      <th></th>\n",
       "    </tr>\n",
       "  </thead>\n",
       "  <tbody>\n",
       "    <tr>\n",
       "      <th>Africa</th>\n",
       "      <td>624.0</td>\n",
       "      <td>48.865330</td>\n",
       "      <td>9.150210</td>\n",
       "      <td>23.599</td>\n",
       "      <td>76.442</td>\n",
       "    </tr>\n",
       "    <tr>\n",
       "      <th>Americas</th>\n",
       "      <td>300.0</td>\n",
       "      <td>64.658737</td>\n",
       "      <td>9.345088</td>\n",
       "      <td>37.579</td>\n",
       "      <td>80.653</td>\n",
       "    </tr>\n",
       "    <tr>\n",
       "      <th>Asia</th>\n",
       "      <td>396.0</td>\n",
       "      <td>60.064903</td>\n",
       "      <td>11.864532</td>\n",
       "      <td>28.801</td>\n",
       "      <td>82.603</td>\n",
       "    </tr>\n",
       "    <tr>\n",
       "      <th>Europe</th>\n",
       "      <td>360.0</td>\n",
       "      <td>71.903686</td>\n",
       "      <td>5.433178</td>\n",
       "      <td>43.585</td>\n",
       "      <td>81.757</td>\n",
       "    </tr>\n",
       "    <tr>\n",
       "      <th>Oceania</th>\n",
       "      <td>24.0</td>\n",
       "      <td>74.326208</td>\n",
       "      <td>3.795611</td>\n",
       "      <td>69.120</td>\n",
       "      <td>81.235</td>\n",
       "    </tr>\n",
       "  </tbody>\n",
       "</table>\n",
       "</div>"
      ],
      "text/plain": [
       "           count_nonzero       mean        std    amin    amax\n",
       "continent                                                     \n",
       "Africa             624.0  48.865330   9.150210  23.599  76.442\n",
       "Americas           300.0  64.658737   9.345088  37.579  80.653\n",
       "Asia               396.0  60.064903  11.864532  28.801  82.603\n",
       "Europe             360.0  71.903686   5.433178  43.585  81.757\n",
       "Oceania             24.0  74.326208   3.795611  69.120  81.235"
      ]
     },
     "execution_count": 24,
     "metadata": {},
     "output_type": "execute_result"
    }
   ],
   "source": [
    "# multiple aggregation function siultaneously\n",
    "df.groupby('continent')['lifeExp'].agg([np.count_nonzero, \n",
    "                                        np.mean, np.std, np.min, np.max])"
   ]
  },
  {
   "cell_type": "code",
   "execution_count": 25,
   "metadata": {
    "slideshow": {
     "slide_type": "subslide"
    }
   },
   "outputs": [
    {
     "data": {
      "text/html": [
       "<div>\n",
       "<style scoped>\n",
       "    .dataframe tbody tr th:only-of-type {\n",
       "        vertical-align: middle;\n",
       "    }\n",
       "\n",
       "    .dataframe tbody tr th {\n",
       "        vertical-align: top;\n",
       "    }\n",
       "\n",
       "    .dataframe thead th {\n",
       "        text-align: right;\n",
       "    }\n",
       "</style>\n",
       "<table border=\"1\" class=\"dataframe\">\n",
       "  <thead>\n",
       "    <tr style=\"text-align: right;\">\n",
       "      <th></th>\n",
       "      <th>count</th>\n",
       "      <th>avg</th>\n",
       "      <th>std_dev</th>\n",
       "    </tr>\n",
       "    <tr>\n",
       "      <th>continent</th>\n",
       "      <th></th>\n",
       "      <th></th>\n",
       "      <th></th>\n",
       "    </tr>\n",
       "  </thead>\n",
       "  <tbody>\n",
       "    <tr>\n",
       "      <th>Africa</th>\n",
       "      <td>624.0</td>\n",
       "      <td>48.865330</td>\n",
       "      <td>9.150210</td>\n",
       "    </tr>\n",
       "    <tr>\n",
       "      <th>Americas</th>\n",
       "      <td>300.0</td>\n",
       "      <td>64.658737</td>\n",
       "      <td>9.345088</td>\n",
       "    </tr>\n",
       "    <tr>\n",
       "      <th>Asia</th>\n",
       "      <td>396.0</td>\n",
       "      <td>60.064903</td>\n",
       "      <td>11.864532</td>\n",
       "    </tr>\n",
       "    <tr>\n",
       "      <th>Europe</th>\n",
       "      <td>360.0</td>\n",
       "      <td>71.903686</td>\n",
       "      <td>5.433178</td>\n",
       "    </tr>\n",
       "    <tr>\n",
       "      <th>Oceania</th>\n",
       "      <td>24.0</td>\n",
       "      <td>74.326208</td>\n",
       "      <td>3.795611</td>\n",
       "    </tr>\n",
       "  </tbody>\n",
       "</table>\n",
       "</div>"
      ],
      "text/plain": [
       "           count        avg    std_dev\n",
       "continent                             \n",
       "Africa     624.0  48.865330   9.150210\n",
       "Americas   300.0  64.658737   9.345088\n",
       "Asia       396.0  60.064903  11.864532\n",
       "Europe     360.0  71.903686   5.433178\n",
       "Oceania     24.0  74.326208   3.795611"
      ]
     },
     "execution_count": 25,
     "metadata": {},
     "output_type": "execute_result"
    }
   ],
   "source": [
    "df.groupby('continent')['lifeExp'].agg([np.count_nonzero, \n",
    "                                        np.mean, np.std]).rename(columns={'count_nonzero': 'count',\n",
    "                                                                          'mean':'avg',\n",
    "                                                                          'std':'std_dev'})"
   ]
  },
  {
   "cell_type": "markdown",
   "metadata": {
    "slideshow": {
     "slide_type": "slide"
    }
   },
   "source": [
    "# Preferred `.groupby()` syntax\n",
    "\n",
    "- You should use following syntax when you use `.groupby()`\n",
    "    - the preferred syntax can handle different aggregation functions on different columns\n",
    "    \n",
    "```python\n",
    "df.groupby('grouping column').agg({'aggregating column': 'aggregating function'})\n",
    "```"
   ]
  },
  {
   "cell_type": "code",
   "execution_count": 26,
   "metadata": {
    "slideshow": {
     "slide_type": "subslide"
    }
   },
   "outputs": [
    {
     "data": {
      "text/html": [
       "<div>\n",
       "<style scoped>\n",
       "    .dataframe tbody tr th:only-of-type {\n",
       "        vertical-align: middle;\n",
       "    }\n",
       "\n",
       "    .dataframe tbody tr th {\n",
       "        vertical-align: top;\n",
       "    }\n",
       "\n",
       "    .dataframe thead tr th {\n",
       "        text-align: left;\n",
       "    }\n",
       "\n",
       "    .dataframe thead tr:last-of-type th {\n",
       "        text-align: right;\n",
       "    }\n",
       "</style>\n",
       "<table border=\"1\" class=\"dataframe\">\n",
       "  <thead>\n",
       "    <tr>\n",
       "      <th></th>\n",
       "      <th colspan=\"2\" halign=\"left\">lifeExp</th>\n",
       "      <th colspan=\"2\" halign=\"left\">pop</th>\n",
       "    </tr>\n",
       "    <tr>\n",
       "      <th></th>\n",
       "      <th>min</th>\n",
       "      <th>max</th>\n",
       "      <th>min</th>\n",
       "      <th>max</th>\n",
       "    </tr>\n",
       "    <tr>\n",
       "      <th>continent</th>\n",
       "      <th></th>\n",
       "      <th></th>\n",
       "      <th></th>\n",
       "      <th></th>\n",
       "    </tr>\n",
       "  </thead>\n",
       "  <tbody>\n",
       "    <tr>\n",
       "      <th>Africa</th>\n",
       "      <td>24.0</td>\n",
       "      <td>76.0</td>\n",
       "      <td>60011</td>\n",
       "      <td>135031164</td>\n",
       "    </tr>\n",
       "    <tr>\n",
       "      <th>Americas</th>\n",
       "      <td>38.0</td>\n",
       "      <td>81.0</td>\n",
       "      <td>662850</td>\n",
       "      <td>301139947</td>\n",
       "    </tr>\n",
       "    <tr>\n",
       "      <th>Asia</th>\n",
       "      <td>29.0</td>\n",
       "      <td>83.0</td>\n",
       "      <td>120447</td>\n",
       "      <td>1318683096</td>\n",
       "    </tr>\n",
       "    <tr>\n",
       "      <th>Europe</th>\n",
       "      <td>44.0</td>\n",
       "      <td>82.0</td>\n",
       "      <td>147962</td>\n",
       "      <td>82400996</td>\n",
       "    </tr>\n",
       "    <tr>\n",
       "      <th>Oceania</th>\n",
       "      <td>69.0</td>\n",
       "      <td>81.0</td>\n",
       "      <td>1994794</td>\n",
       "      <td>20434176</td>\n",
       "    </tr>\n",
       "  </tbody>\n",
       "</table>\n",
       "</div>"
      ],
      "text/plain": [
       "          lifeExp            pop            \n",
       "              min   max      min         max\n",
       "continent                                   \n",
       "Africa       24.0  76.0    60011   135031164\n",
       "Americas     38.0  81.0   662850   301139947\n",
       "Asia         29.0  83.0   120447  1318683096\n",
       "Europe       44.0  82.0   147962    82400996\n",
       "Oceania      69.0  81.0  1994794    20434176"
      ]
     },
     "execution_count": 26,
     "metadata": {},
     "output_type": "execute_result"
    }
   ],
   "source": [
    "df.groupby('continent').agg({'lifeExp': ['min', 'max'],\n",
    "                              'pop': ['min', 'max']\n",
    "                              }).round(0).head(10)"
   ]
  },
  {
   "cell_type": "code",
   "execution_count": 27,
   "metadata": {},
   "outputs": [
    {
     "data": {
      "text/html": [
       "<div>\n",
       "<style scoped>\n",
       "    .dataframe tbody tr th:only-of-type {\n",
       "        vertical-align: middle;\n",
       "    }\n",
       "\n",
       "    .dataframe tbody tr th {\n",
       "        vertical-align: top;\n",
       "    }\n",
       "\n",
       "    .dataframe thead tr th {\n",
       "        text-align: left;\n",
       "    }\n",
       "\n",
       "    .dataframe thead tr:last-of-type th {\n",
       "        text-align: right;\n",
       "    }\n",
       "</style>\n",
       "<table border=\"1\" class=\"dataframe\">\n",
       "  <thead>\n",
       "    <tr>\n",
       "      <th></th>\n",
       "      <th>lifeExp</th>\n",
       "      <th>pop</th>\n",
       "    </tr>\n",
       "    <tr>\n",
       "      <th></th>\n",
       "      <th>mean</th>\n",
       "      <th>mean</th>\n",
       "    </tr>\n",
       "    <tr>\n",
       "      <th>continent</th>\n",
       "      <th></th>\n",
       "      <th></th>\n",
       "    </tr>\n",
       "  </thead>\n",
       "  <tbody>\n",
       "    <tr>\n",
       "      <th>Africa</th>\n",
       "      <td>49.0</td>\n",
       "      <td>9916003.0</td>\n",
       "    </tr>\n",
       "    <tr>\n",
       "      <th>Americas</th>\n",
       "      <td>65.0</td>\n",
       "      <td>24504795.0</td>\n",
       "    </tr>\n",
       "    <tr>\n",
       "      <th>Asia</th>\n",
       "      <td>60.0</td>\n",
       "      <td>77038722.0</td>\n",
       "    </tr>\n",
       "    <tr>\n",
       "      <th>Europe</th>\n",
       "      <td>72.0</td>\n",
       "      <td>17169765.0</td>\n",
       "    </tr>\n",
       "    <tr>\n",
       "      <th>Oceania</th>\n",
       "      <td>74.0</td>\n",
       "      <td>8874672.0</td>\n",
       "    </tr>\n",
       "  </tbody>\n",
       "</table>\n",
       "</div>"
      ],
      "text/plain": [
       "          lifeExp         pop\n",
       "             mean        mean\n",
       "continent                    \n",
       "Africa       49.0   9916003.0\n",
       "Americas     65.0  24504795.0\n",
       "Asia         60.0  77038722.0\n",
       "Europe       72.0  17169765.0\n",
       "Oceania      74.0   8874672.0"
      ]
     },
     "execution_count": 27,
     "metadata": {},
     "output_type": "execute_result"
    }
   ],
   "source": [
    "df.groupby('continent').agg({'lifeExp': ['mean'],\n",
    "                              'pop': ['mean']\n",
    "                              }).round(0).head(10)"
   ]
  },
  {
   "cell_type": "markdown",
   "metadata": {
    "slideshow": {
     "slide_type": "slide"
    }
   },
   "source": [
    "# Transform Your Data\n",
    "\n",
    "- Transform is different from aggregation\n",
    "    - aggregate takes multiple values, and output one value (values --> annual average)\n",
    "    - transform take mukltiple values, and do a one-to-one transform\n",
    "    - transform is similar to apply"
   ]
  },
  {
   "cell_type": "code",
   "execution_count": 12,
   "metadata": {
    "slideshow": {
     "slide_type": "subslide"
    }
   },
   "outputs": [],
   "source": [
    "# z-score example\n",
    "def my_zscore(x):\n",
    "    return(x-x.mean()/x.std())"
   ]
  },
  {
   "cell_type": "code",
   "execution_count": 13,
   "metadata": {
    "slideshow": {
     "slide_type": "fragment"
    }
   },
   "outputs": [
    {
     "data": {
      "text/plain": [
       "0    23.73844\n",
       "1    25.26944\n",
       "2    26.93444\n",
       "Name: lifeExp, dtype: float64"
      ]
     },
     "execution_count": 13,
     "metadata": {},
     "output_type": "execute_result"
    }
   ],
   "source": [
    "z_transform = df.groupby('continent')['lifeExp'].transform(my_zscore)\n",
    "z_transform.head(3)"
   ]
  },
  {
   "cell_type": "code",
   "execution_count": 14,
   "metadata": {
    "slideshow": {
     "slide_type": "subslide"
    }
   },
   "outputs": [
    {
     "data": {
      "text/plain": [
       "True"
      ]
     },
     "execution_count": 14,
     "metadata": {},
     "output_type": "execute_result"
    }
   ],
   "source": [
    "# one-to-one match - same dimension with `df`\n",
    "z_transform.shape[0] == df.shape[0]"
   ]
  },
  {
   "cell_type": "code",
   "execution_count": 15,
   "metadata": {
    "slideshow": {
     "slide_type": "fragment"
    }
   },
   "outputs": [
    {
     "data": {
      "text/plain": [
       "0    23.73844\n",
       "1    25.26944\n",
       "2    26.93444\n",
       "Name: lifeExp, dtype: float64"
      ]
     },
     "execution_count": 15,
     "metadata": {},
     "output_type": "execute_result"
    }
   ],
   "source": [
    "# same as transform\n",
    "z_transform1 = df.groupby('continent')['lifeExp'].apply(my_zscore)\n",
    "z_transform1.head(3)"
   ]
  },
  {
   "cell_type": "markdown",
   "metadata": {
    "slideshow": {
     "slide_type": "slide"
    }
   },
   "source": [
    "# missing value example\n",
    "- Read PD4E pp. 199 - 201 for the example"
   ]
  },
  {
   "cell_type": "markdown",
   "metadata": {
    "slideshow": {
     "slide_type": "slide"
    }
   },
   "source": [
    "# Grouped\n",
    "\n",
    "- You can always group your data based on one or more columns\n",
    "- grouped objects are essentially subsets of your data, based on certain conditions"
   ]
  },
  {
   "cell_type": "code",
   "execution_count": 28,
   "metadata": {
    "slideshow": {
     "slide_type": "subslide"
    }
   },
   "outputs": [
    {
     "data": {
      "text/html": [
       "<div>\n",
       "<style scoped>\n",
       "    .dataframe tbody tr th:only-of-type {\n",
       "        vertical-align: middle;\n",
       "    }\n",
       "\n",
       "    .dataframe tbody tr th {\n",
       "        vertical-align: top;\n",
       "    }\n",
       "\n",
       "    .dataframe thead th {\n",
       "        text-align: right;\n",
       "    }\n",
       "</style>\n",
       "<table border=\"1\" class=\"dataframe\">\n",
       "  <thead>\n",
       "    <tr style=\"text-align: right;\">\n",
       "      <th></th>\n",
       "      <th>total_bill</th>\n",
       "      <th>tip</th>\n",
       "      <th>sex</th>\n",
       "      <th>smoker</th>\n",
       "      <th>day</th>\n",
       "      <th>time</th>\n",
       "      <th>size</th>\n",
       "    </tr>\n",
       "  </thead>\n",
       "  <tbody>\n",
       "    <tr>\n",
       "      <th>4</th>\n",
       "      <td>24.59</td>\n",
       "      <td>3.61</td>\n",
       "      <td>Female</td>\n",
       "      <td>No</td>\n",
       "      <td>Sun</td>\n",
       "      <td>Dinner</td>\n",
       "      <td>4</td>\n",
       "    </tr>\n",
       "    <tr>\n",
       "      <th>42</th>\n",
       "      <td>13.94</td>\n",
       "      <td>3.06</td>\n",
       "      <td>Male</td>\n",
       "      <td>No</td>\n",
       "      <td>Sun</td>\n",
       "      <td>Dinner</td>\n",
       "      <td>2</td>\n",
       "    </tr>\n",
       "    <tr>\n",
       "      <th>241</th>\n",
       "      <td>22.67</td>\n",
       "      <td>2.00</td>\n",
       "      <td>Male</td>\n",
       "      <td>Yes</td>\n",
       "      <td>Sat</td>\n",
       "      <td>Dinner</td>\n",
       "      <td>2</td>\n",
       "    </tr>\n",
       "    <tr>\n",
       "      <th>233</th>\n",
       "      <td>10.77</td>\n",
       "      <td>1.47</td>\n",
       "      <td>Male</td>\n",
       "      <td>No</td>\n",
       "      <td>Sat</td>\n",
       "      <td>Dinner</td>\n",
       "      <td>2</td>\n",
       "    </tr>\n",
       "    <tr>\n",
       "      <th>34</th>\n",
       "      <td>17.78</td>\n",
       "      <td>3.27</td>\n",
       "      <td>Male</td>\n",
       "      <td>No</td>\n",
       "      <td>Sat</td>\n",
       "      <td>Dinner</td>\n",
       "      <td>2</td>\n",
       "    </tr>\n",
       "    <tr>\n",
       "      <th>23</th>\n",
       "      <td>39.42</td>\n",
       "      <td>7.58</td>\n",
       "      <td>Male</td>\n",
       "      <td>No</td>\n",
       "      <td>Sat</td>\n",
       "      <td>Dinner</td>\n",
       "      <td>4</td>\n",
       "    </tr>\n",
       "    <tr>\n",
       "      <th>105</th>\n",
       "      <td>15.36</td>\n",
       "      <td>1.64</td>\n",
       "      <td>Male</td>\n",
       "      <td>Yes</td>\n",
       "      <td>Sat</td>\n",
       "      <td>Dinner</td>\n",
       "      <td>2</td>\n",
       "    </tr>\n",
       "    <tr>\n",
       "      <th>201</th>\n",
       "      <td>12.74</td>\n",
       "      <td>2.01</td>\n",
       "      <td>Female</td>\n",
       "      <td>Yes</td>\n",
       "      <td>Thur</td>\n",
       "      <td>Lunch</td>\n",
       "      <td>2</td>\n",
       "    </tr>\n",
       "    <tr>\n",
       "      <th>85</th>\n",
       "      <td>34.83</td>\n",
       "      <td>5.17</td>\n",
       "      <td>Female</td>\n",
       "      <td>No</td>\n",
       "      <td>Thur</td>\n",
       "      <td>Lunch</td>\n",
       "      <td>4</td>\n",
       "    </tr>\n",
       "    <tr>\n",
       "      <th>101</th>\n",
       "      <td>15.38</td>\n",
       "      <td>3.00</td>\n",
       "      <td>Female</td>\n",
       "      <td>Yes</td>\n",
       "      <td>Fri</td>\n",
       "      <td>Dinner</td>\n",
       "      <td>2</td>\n",
       "    </tr>\n",
       "  </tbody>\n",
       "</table>\n",
       "</div>"
      ],
      "text/plain": [
       "     total_bill   tip     sex smoker   day    time  size\n",
       "4         24.59  3.61  Female     No   Sun  Dinner     4\n",
       "42        13.94  3.06    Male     No   Sun  Dinner     2\n",
       "241       22.67  2.00    Male    Yes   Sat  Dinner     2\n",
       "233       10.77  1.47    Male     No   Sat  Dinner     2\n",
       "34        17.78  3.27    Male     No   Sat  Dinner     2\n",
       "23        39.42  7.58    Male     No   Sat  Dinner     4\n",
       "105       15.36  1.64    Male    Yes   Sat  Dinner     2\n",
       "201       12.74  2.01  Female    Yes  Thur   Lunch     2\n",
       "85        34.83  5.17  Female     No  Thur   Lunch     4\n",
       "101       15.38  3.00  Female    Yes   Fri  Dinner     2"
      ]
     },
     "execution_count": 28,
     "metadata": {},
     "output_type": "execute_result"
    }
   ],
   "source": [
    "import seaborn as sns\n",
    "\n",
    "tips10 = sns.load_dataset('tips').sample(10, random_state=2019)\n",
    "tips10"
   ]
  },
  {
   "cell_type": "code",
   "execution_count": 29,
   "metadata": {
    "slideshow": {
     "slide_type": "subslide"
    }
   },
   "outputs": [
    {
     "data": {
      "text/plain": [
       "<pandas.core.groupby.generic.DataFrameGroupBy object at 0x7fe38931d6a0>"
      ]
     },
     "execution_count": 29,
     "metadata": {},
     "output_type": "execute_result"
    }
   ],
   "source": [
    "# this will return the grouped objects\n",
    "grouped = tips10.groupby('sex')\n",
    "grouped"
   ]
  },
  {
   "cell_type": "code",
   "execution_count": 31,
   "metadata": {
    "slideshow": {
     "slide_type": "subslide"
    }
   },
   "outputs": [
    {
     "name": "stdout",
     "output_type": "stream",
     "text": [
      "('Male',      total_bill   tip   sex smoker  day    time  size\n",
      "42        13.94  3.06  Male     No  Sun  Dinner     2\n",
      "241       22.67  2.00  Male    Yes  Sat  Dinner     2\n",
      "233       10.77  1.47  Male     No  Sat  Dinner     2\n",
      "34        17.78  3.27  Male     No  Sat  Dinner     2\n",
      "23        39.42  7.58  Male     No  Sat  Dinner     4\n",
      "105       15.36  1.64  Male    Yes  Sat  Dinner     2)\n",
      "('Female',      total_bill   tip     sex smoker   day    time  size\n",
      "4         24.59  3.61  Female     No   Sun  Dinner     4\n",
      "201       12.74  2.01  Female    Yes  Thur   Lunch     2\n",
      "85        34.83  5.17  Female     No  Thur   Lunch     4\n",
      "101       15.38  3.00  Female    Yes   Fri  Dinner     2)\n"
     ]
    }
   ],
   "source": [
    "# to unpack the grouped objects, we need to use a loop\n",
    "for group in grouped:\n",
    "    print(group)"
   ]
  },
  {
   "cell_type": "code",
   "execution_count": 33,
   "metadata": {
    "slideshow": {
     "slide_type": "subslide"
    }
   },
   "outputs": [
    {
     "data": {
      "text/html": [
       "<div>\n",
       "<style scoped>\n",
       "    .dataframe tbody tr th:only-of-type {\n",
       "        vertical-align: middle;\n",
       "    }\n",
       "\n",
       "    .dataframe tbody tr th {\n",
       "        vertical-align: top;\n",
       "    }\n",
       "\n",
       "    .dataframe thead th {\n",
       "        text-align: right;\n",
       "    }\n",
       "</style>\n",
       "<table border=\"1\" class=\"dataframe\">\n",
       "  <thead>\n",
       "    <tr style=\"text-align: right;\">\n",
       "      <th></th>\n",
       "      <th>total_bill</th>\n",
       "      <th>tip</th>\n",
       "      <th>size</th>\n",
       "    </tr>\n",
       "    <tr>\n",
       "      <th>sex</th>\n",
       "      <th></th>\n",
       "      <th></th>\n",
       "      <th></th>\n",
       "    </tr>\n",
       "  </thead>\n",
       "  <tbody>\n",
       "    <tr>\n",
       "      <th>Male</th>\n",
       "      <td>19.990</td>\n",
       "      <td>3.1700</td>\n",
       "      <td>2.333333</td>\n",
       "    </tr>\n",
       "    <tr>\n",
       "      <th>Female</th>\n",
       "      <td>21.885</td>\n",
       "      <td>3.4475</td>\n",
       "      <td>3.000000</td>\n",
       "    </tr>\n",
       "  </tbody>\n",
       "</table>\n",
       "</div>"
      ],
      "text/plain": [
       "        total_bill     tip      size\n",
       "sex                                 \n",
       "Male        19.990  3.1700  2.333333\n",
       "Female      21.885  3.4475  3.000000"
      ]
     },
     "execution_count": 33,
     "metadata": {},
     "output_type": "execute_result"
    }
   ],
   "source": [
    "# we can do calculation to the grouped objects\n",
    "grouped.mean()"
   ]
  },
  {
   "cell_type": "code",
   "execution_count": 37,
   "metadata": {
    "slideshow": {
     "slide_type": "subslide"
    }
   },
   "outputs": [
    {
     "data": {
      "text/html": [
       "<div>\n",
       "<style scoped>\n",
       "    .dataframe tbody tr th:only-of-type {\n",
       "        vertical-align: middle;\n",
       "    }\n",
       "\n",
       "    .dataframe tbody tr th {\n",
       "        vertical-align: top;\n",
       "    }\n",
       "\n",
       "    .dataframe thead th {\n",
       "        text-align: right;\n",
       "    }\n",
       "</style>\n",
       "<table border=\"1\" class=\"dataframe\">\n",
       "  <thead>\n",
       "    <tr style=\"text-align: right;\">\n",
       "      <th></th>\n",
       "      <th>total_bill</th>\n",
       "      <th>tip</th>\n",
       "      <th>sex</th>\n",
       "      <th>smoker</th>\n",
       "      <th>day</th>\n",
       "      <th>time</th>\n",
       "      <th>size</th>\n",
       "    </tr>\n",
       "  </thead>\n",
       "  <tbody>\n",
       "    <tr>\n",
       "      <th>4</th>\n",
       "      <td>24.59</td>\n",
       "      <td>3.61</td>\n",
       "      <td>Female</td>\n",
       "      <td>No</td>\n",
       "      <td>Sun</td>\n",
       "      <td>Dinner</td>\n",
       "      <td>4</td>\n",
       "    </tr>\n",
       "    <tr>\n",
       "      <th>201</th>\n",
       "      <td>12.74</td>\n",
       "      <td>2.01</td>\n",
       "      <td>Female</td>\n",
       "      <td>Yes</td>\n",
       "      <td>Thur</td>\n",
       "      <td>Lunch</td>\n",
       "      <td>2</td>\n",
       "    </tr>\n",
       "    <tr>\n",
       "      <th>85</th>\n",
       "      <td>34.83</td>\n",
       "      <td>5.17</td>\n",
       "      <td>Female</td>\n",
       "      <td>No</td>\n",
       "      <td>Thur</td>\n",
       "      <td>Lunch</td>\n",
       "      <td>4</td>\n",
       "    </tr>\n",
       "    <tr>\n",
       "      <th>101</th>\n",
       "      <td>15.38</td>\n",
       "      <td>3.00</td>\n",
       "      <td>Female</td>\n",
       "      <td>Yes</td>\n",
       "      <td>Fri</td>\n",
       "      <td>Dinner</td>\n",
       "      <td>2</td>\n",
       "    </tr>\n",
       "  </tbody>\n",
       "</table>\n",
       "</div>"
      ],
      "text/plain": [
       "     total_bill   tip     sex smoker   day    time  size\n",
       "4         24.59  3.61  Female     No   Sun  Dinner     4\n",
       "201       12.74  2.01  Female    Yes  Thur   Lunch     2\n",
       "85        34.83  5.17  Female     No  Thur   Lunch     4\n",
       "101       15.38  3.00  Female    Yes   Fri  Dinner     2"
      ]
     },
     "execution_count": 37,
     "metadata": {},
     "output_type": "execute_result"
    }
   ],
   "source": [
    "# selecting a group - a subset of your data\n",
    "grouped.get_group('Female')"
   ]
  },
  {
   "cell_type": "code",
   "execution_count": 38,
   "metadata": {
    "slideshow": {
     "slide_type": "subslide"
    }
   },
   "outputs": [
    {
     "data": {
      "text/html": [
       "<div>\n",
       "<style scoped>\n",
       "    .dataframe tbody tr th:only-of-type {\n",
       "        vertical-align: middle;\n",
       "    }\n",
       "\n",
       "    .dataframe tbody tr th {\n",
       "        vertical-align: top;\n",
       "    }\n",
       "\n",
       "    .dataframe thead th {\n",
       "        text-align: right;\n",
       "    }\n",
       "</style>\n",
       "<table border=\"1\" class=\"dataframe\">\n",
       "  <thead>\n",
       "    <tr style=\"text-align: right;\">\n",
       "      <th></th>\n",
       "      <th></th>\n",
       "      <th>total_bill</th>\n",
       "      <th>tip</th>\n",
       "      <th>size</th>\n",
       "    </tr>\n",
       "    <tr>\n",
       "      <th>sex</th>\n",
       "      <th>time</th>\n",
       "      <th></th>\n",
       "      <th></th>\n",
       "      <th></th>\n",
       "    </tr>\n",
       "  </thead>\n",
       "  <tbody>\n",
       "    <tr>\n",
       "      <th rowspan=\"2\" valign=\"top\">Male</th>\n",
       "      <th>Lunch</th>\n",
       "      <td>NaN</td>\n",
       "      <td>NaN</td>\n",
       "      <td>NaN</td>\n",
       "    </tr>\n",
       "    <tr>\n",
       "      <th>Dinner</th>\n",
       "      <td>19.99</td>\n",
       "      <td>3.17</td>\n",
       "      <td>2.33</td>\n",
       "    </tr>\n",
       "    <tr>\n",
       "      <th rowspan=\"2\" valign=\"top\">Female</th>\n",
       "      <th>Lunch</th>\n",
       "      <td>23.78</td>\n",
       "      <td>3.59</td>\n",
       "      <td>3.00</td>\n",
       "    </tr>\n",
       "    <tr>\n",
       "      <th>Dinner</th>\n",
       "      <td>19.98</td>\n",
       "      <td>3.30</td>\n",
       "      <td>3.00</td>\n",
       "    </tr>\n",
       "  </tbody>\n",
       "</table>\n",
       "</div>"
      ],
      "text/plain": [
       "               total_bill   tip  size\n",
       "sex    time                          \n",
       "Male   Lunch          NaN   NaN   NaN\n",
       "       Dinner       19.99  3.17  2.33\n",
       "Female Lunch        23.78  3.59  3.00\n",
       "       Dinner       19.98  3.30  3.00"
      ]
     },
     "execution_count": 38,
     "metadata": {},
     "output_type": "execute_result"
    }
   ],
   "source": [
    "# you can also group based on multiple columns\n",
    "tips10.groupby(['sex','time']).mean().round(2)"
   ]
  },
  {
   "cell_type": "markdown",
   "metadata": {
    "slideshow": {
     "slide_type": "slide"
    }
   },
   "source": [
    "# Multi-index DataFrame\n",
    "\n",
    "- Above results, since it has two levels of indices, is called a _multi-index_ DataFrame\n",
    "- multi-index DataFrames are useful in the field of databases and data warehouses/BI\n",
    "- but strongly discouraged in machine learning"
   ]
  },
  {
   "cell_type": "code",
   "execution_count": 39,
   "metadata": {
    "slideshow": {
     "slide_type": "subslide"
    }
   },
   "outputs": [
    {
     "data": {
      "text/html": [
       "<div>\n",
       "<style scoped>\n",
       "    .dataframe tbody tr th:only-of-type {\n",
       "        vertical-align: middle;\n",
       "    }\n",
       "\n",
       "    .dataframe tbody tr th {\n",
       "        vertical-align: top;\n",
       "    }\n",
       "\n",
       "    .dataframe thead th {\n",
       "        text-align: right;\n",
       "    }\n",
       "</style>\n",
       "<table border=\"1\" class=\"dataframe\">\n",
       "  <thead>\n",
       "    <tr style=\"text-align: right;\">\n",
       "      <th></th>\n",
       "      <th>total_bill</th>\n",
       "      <th>tip</th>\n",
       "      <th>size</th>\n",
       "    </tr>\n",
       "    <tr>\n",
       "      <th>time</th>\n",
       "      <th></th>\n",
       "      <th></th>\n",
       "      <th></th>\n",
       "    </tr>\n",
       "  </thead>\n",
       "  <tbody>\n",
       "    <tr>\n",
       "      <th>Lunch</th>\n",
       "      <td>NaN</td>\n",
       "      <td>NaN</td>\n",
       "      <td>NaN</td>\n",
       "    </tr>\n",
       "    <tr>\n",
       "      <th>Dinner</th>\n",
       "      <td>19.99</td>\n",
       "      <td>3.17</td>\n",
       "      <td>2.333333</td>\n",
       "    </tr>\n",
       "  </tbody>\n",
       "</table>\n",
       "</div>"
      ],
      "text/plain": [
       "        total_bill   tip      size\n",
       "time                              \n",
       "Lunch          NaN   NaN       NaN\n",
       "Dinner       19.99  3.17  2.333333"
      ]
     },
     "execution_count": 39,
     "metadata": {},
     "output_type": "execute_result"
    }
   ],
   "source": [
    "# indexing can unpack the multi-index, by giving you a subset of the data\n",
    "tips10.groupby(['sex','time']).mean().loc['Male']"
   ]
  },
  {
   "cell_type": "code",
   "execution_count": 40,
   "metadata": {
    "slideshow": {
     "slide_type": "subslide"
    }
   },
   "outputs": [
    {
     "data": {
      "text/html": [
       "<div>\n",
       "<style scoped>\n",
       "    .dataframe tbody tr th:only-of-type {\n",
       "        vertical-align: middle;\n",
       "    }\n",
       "\n",
       "    .dataframe tbody tr th {\n",
       "        vertical-align: top;\n",
       "    }\n",
       "\n",
       "    .dataframe thead th {\n",
       "        text-align: right;\n",
       "    }\n",
       "</style>\n",
       "<table border=\"1\" class=\"dataframe\">\n",
       "  <thead>\n",
       "    <tr style=\"text-align: right;\">\n",
       "      <th></th>\n",
       "      <th>sex</th>\n",
       "      <th>time</th>\n",
       "      <th>total_bill</th>\n",
       "      <th>tip</th>\n",
       "      <th>size</th>\n",
       "    </tr>\n",
       "  </thead>\n",
       "  <tbody>\n",
       "    <tr>\n",
       "      <th>0</th>\n",
       "      <td>Male</td>\n",
       "      <td>Lunch</td>\n",
       "      <td>NaN</td>\n",
       "      <td>NaN</td>\n",
       "      <td>NaN</td>\n",
       "    </tr>\n",
       "    <tr>\n",
       "      <th>1</th>\n",
       "      <td>Male</td>\n",
       "      <td>Dinner</td>\n",
       "      <td>19.990</td>\n",
       "      <td>3.170</td>\n",
       "      <td>2.333333</td>\n",
       "    </tr>\n",
       "    <tr>\n",
       "      <th>2</th>\n",
       "      <td>Female</td>\n",
       "      <td>Lunch</td>\n",
       "      <td>23.785</td>\n",
       "      <td>3.590</td>\n",
       "      <td>3.000000</td>\n",
       "    </tr>\n",
       "    <tr>\n",
       "      <th>3</th>\n",
       "      <td>Female</td>\n",
       "      <td>Dinner</td>\n",
       "      <td>19.985</td>\n",
       "      <td>3.305</td>\n",
       "      <td>3.000000</td>\n",
       "    </tr>\n",
       "  </tbody>\n",
       "</table>\n",
       "</div>"
      ],
      "text/plain": [
       "      sex    time  total_bill    tip      size\n",
       "0    Male   Lunch         NaN    NaN       NaN\n",
       "1    Male  Dinner      19.990  3.170  2.333333\n",
       "2  Female   Lunch      23.785  3.590  3.000000\n",
       "3  Female  Dinner      19.985  3.305  3.000000"
      ]
     },
     "execution_count": 40,
     "metadata": {},
     "output_type": "execute_result"
    }
   ],
   "source": [
    "# if you want to get all the data at the same level, you need `.reset_index()`\n",
    "# this operation is called __flattening__\n",
    "# almost a must do in machine learning\n",
    "tips10.groupby(['sex','time']).mean().reset_index()"
   ]
  },
  {
   "cell_type": "markdown",
   "metadata": {
    "slideshow": {
     "slide_type": "slide"
    }
   },
   "source": [
    "# `pivot_table` in `pandas`\n",
    "\n",
    "- Like you used in Excel, `pandas` also support pivot tables\n",
    "- pivot tables are similar to `.groupby()`, but much cleaned\n",
    "    - `NaN` rows will be eliminated\n",
    "- Prefer `.pivot_table()` to `.groupby()` when you want to directly compare groups\n",
    "- Alternatively, use `.groupby()` when you want to iterate through groups"
   ]
  },
  {
   "cell_type": "code",
   "execution_count": 41,
   "metadata": {
    "slideshow": {
     "slide_type": "subslide"
    }
   },
   "outputs": [
    {
     "data": {
      "text/html": [
       "<div>\n",
       "<style scoped>\n",
       "    .dataframe tbody tr th:only-of-type {\n",
       "        vertical-align: middle;\n",
       "    }\n",
       "\n",
       "    .dataframe tbody tr th {\n",
       "        vertical-align: top;\n",
       "    }\n",
       "\n",
       "    .dataframe thead th {\n",
       "        text-align: right;\n",
       "    }\n",
       "</style>\n",
       "<table border=\"1\" class=\"dataframe\">\n",
       "  <thead>\n",
       "    <tr style=\"text-align: right;\">\n",
       "      <th></th>\n",
       "      <th></th>\n",
       "      <th>size</th>\n",
       "      <th>tip</th>\n",
       "      <th>total_bill</th>\n",
       "    </tr>\n",
       "    <tr>\n",
       "      <th>sex</th>\n",
       "      <th>time</th>\n",
       "      <th></th>\n",
       "      <th></th>\n",
       "      <th></th>\n",
       "    </tr>\n",
       "  </thead>\n",
       "  <tbody>\n",
       "    <tr>\n",
       "      <th>Male</th>\n",
       "      <th>Dinner</th>\n",
       "      <td>2.33</td>\n",
       "      <td>3.17</td>\n",
       "      <td>19.99</td>\n",
       "    </tr>\n",
       "    <tr>\n",
       "      <th rowspan=\"2\" valign=\"top\">Female</th>\n",
       "      <th>Lunch</th>\n",
       "      <td>3.00</td>\n",
       "      <td>3.59</td>\n",
       "      <td>23.78</td>\n",
       "    </tr>\n",
       "    <tr>\n",
       "      <th>Dinner</th>\n",
       "      <td>3.00</td>\n",
       "      <td>3.30</td>\n",
       "      <td>19.98</td>\n",
       "    </tr>\n",
       "  </tbody>\n",
       "</table>\n",
       "</div>"
      ],
      "text/plain": [
       "               size   tip  total_bill\n",
       "sex    time                          \n",
       "Male   Dinner  2.33  3.17       19.99\n",
       "Female Lunch   3.00  3.59       23.78\n",
       "       Dinner  3.00  3.30       19.98"
      ]
     },
     "execution_count": 41,
     "metadata": {},
     "output_type": "execute_result"
    }
   ],
   "source": [
    "tips10.pivot_table(index=['sex', 'time'],\n",
    "                    values=['total_bill', 'tip', 'size'], aggfunc='mean').round(2)"
   ]
  },
  {
   "cell_type": "markdown",
   "metadata": {
    "slideshow": {
     "slide_type": "slide"
    }
   },
   "source": [
    "# Crosstabs\n",
    "\n",
    "- pandas also provide a function `crosstab()`\n",
    "- only use that when you want to look at the relative frequency of a column values"
   ]
  },
  {
   "cell_type": "code",
   "execution_count": 42,
   "metadata": {
    "slideshow": {
     "slide_type": "subslide"
    }
   },
   "outputs": [
    {
     "data": {
      "text/html": [
       "<div>\n",
       "<style scoped>\n",
       "    .dataframe tbody tr th:only-of-type {\n",
       "        vertical-align: middle;\n",
       "    }\n",
       "\n",
       "    .dataframe tbody tr th {\n",
       "        vertical-align: top;\n",
       "    }\n",
       "\n",
       "    .dataframe thead th {\n",
       "        text-align: right;\n",
       "    }\n",
       "</style>\n",
       "<table border=\"1\" class=\"dataframe\">\n",
       "  <thead>\n",
       "    <tr style=\"text-align: right;\">\n",
       "      <th>day</th>\n",
       "      <th>Thur</th>\n",
       "      <th>Fri</th>\n",
       "      <th>Sat</th>\n",
       "      <th>Sun</th>\n",
       "    </tr>\n",
       "    <tr>\n",
       "      <th>sex</th>\n",
       "      <th></th>\n",
       "      <th></th>\n",
       "      <th></th>\n",
       "      <th></th>\n",
       "    </tr>\n",
       "  </thead>\n",
       "  <tbody>\n",
       "    <tr>\n",
       "      <th>Male</th>\n",
       "      <td>0.0</td>\n",
       "      <td>0.0</td>\n",
       "      <td>0.5</td>\n",
       "      <td>0.1</td>\n",
       "    </tr>\n",
       "    <tr>\n",
       "      <th>Female</th>\n",
       "      <td>0.2</td>\n",
       "      <td>0.1</td>\n",
       "      <td>0.0</td>\n",
       "      <td>0.1</td>\n",
       "    </tr>\n",
       "  </tbody>\n",
       "</table>\n",
       "</div>"
      ],
      "text/plain": [
       "day     Thur  Fri  Sat  Sun\n",
       "sex                        \n",
       "Male     0.0  0.0  0.5  0.1\n",
       "Female   0.2  0.1  0.0  0.1"
      ]
     },
     "execution_count": 42,
     "metadata": {},
     "output_type": "execute_result"
    }
   ],
   "source": [
    "# following statement will give you the relative frequency of `day` over `sex`\n",
    "pd.crosstab(index=tips10['sex'], columns=tips10['day'], normalize='all').round(3)"
   ]
  },
  {
   "cell_type": "markdown",
   "metadata": {
    "slideshow": {
     "slide_type": "slide"
    }
   },
   "source": [
    "# Your Turn Here\n",
    "Finish exercises below by following instructions of each of them."
   ]
  },
  {
   "cell_type": "markdown",
   "metadata": {
    "slideshow": {
     "slide_type": "slide"
    }
   },
   "source": [
    "## Q1. Coding Problem\n",
    "\n",
    "Complete excecises regarding data types of the given DataFrame (`itinery_df`)."
   ]
  },
  {
   "cell_type": "code",
   "execution_count": 51,
   "metadata": {
    "slideshow": {
     "slide_type": "subslide"
    }
   },
   "outputs": [
    {
     "data": {
      "text/html": [
       "<div>\n",
       "<style scoped>\n",
       "    .dataframe tbody tr th:only-of-type {\n",
       "        vertical-align: middle;\n",
       "    }\n",
       "\n",
       "    .dataframe tbody tr th {\n",
       "        vertical-align: top;\n",
       "    }\n",
       "\n",
       "    .dataframe thead th {\n",
       "        text-align: right;\n",
       "    }\n",
       "</style>\n",
       "<table border=\"1\" class=\"dataframe\">\n",
       "  <thead>\n",
       "    <tr style=\"text-align: right;\">\n",
       "      <th></th>\n",
       "      <th>duration_mins</th>\n",
       "      <th>work_types</th>\n",
       "      <th>locations</th>\n",
       "      <th>hour_rates</th>\n",
       "    </tr>\n",
       "  </thead>\n",
       "  <tbody>\n",
       "    <tr>\n",
       "      <th>0</th>\n",
       "      <td>1460</td>\n",
       "      <td>consulting</td>\n",
       "      <td>Mumbai, India</td>\n",
       "      <td>17.78</td>\n",
       "    </tr>\n",
       "    <tr>\n",
       "      <th>1</th>\n",
       "      <td>1413</td>\n",
       "      <td>consulting</td>\n",
       "      <td>Mumbai, India</td>\n",
       "      <td>16.70</td>\n",
       "    </tr>\n",
       "    <tr>\n",
       "      <th>2</th>\n",
       "      <td>238</td>\n",
       "      <td>research</td>\n",
       "      <td>Munich, Germany</td>\n",
       "      <td>11.92</td>\n",
       "    </tr>\n",
       "    <tr>\n",
       "      <th>3</th>\n",
       "      <td>674</td>\n",
       "      <td>lecture</td>\n",
       "      <td>Paris, France</td>\n",
       "      <td>12.76</td>\n",
       "    </tr>\n",
       "    <tr>\n",
       "      <th>4</th>\n",
       "      <td>372</td>\n",
       "      <td>lecture</td>\n",
       "      <td>Paris, France</td>\n",
       "      <td>11.97</td>\n",
       "    </tr>\n",
       "  </tbody>\n",
       "</table>\n",
       "</div>"
      ],
      "text/plain": [
       "   duration_mins  work_types        locations  hour_rates\n",
       "0           1460  consulting    Mumbai, India       17.78\n",
       "1           1413  consulting    Mumbai, India       16.70\n",
       "2            238    research  Munich, Germany       11.92\n",
       "3            674     lecture    Paris, France       12.76\n",
       "4            372     lecture    Paris, France       11.97"
      ]
     },
     "execution_count": 51,
     "metadata": {},
     "output_type": "execute_result"
    }
   ],
   "source": [
    "import random\n",
    "import pandas as pd\n",
    "# generating the DF\n",
    "duration_mins = pd.Series(random.sample(range(1, 1800), 50), name='duration_mins')\n",
    "work_types = ['lecture', 'consulting', 'research']\n",
    "work_type_series = pd.Series(random.choices(work_types, k=50), name='work_types')\n",
    "locations = ['Beijing, China', 'London, England', 'Paris, France', 'Munich, Germany', \n",
    "             'Sydney, Australia', 'Mumbai, India', 'Madrid, Spain']\n",
    "loc_series = pd.Series(random.choices(locations, k=50), name='locations')\n",
    "hour_rates = pd.Series([round(random.uniform(10.0, 20.0), 2) for i in range(50)], name='hour_rates')\n",
    "#hour_rates.loc[random.sample(range(1, 20), 5)] = 'missing'\n",
    "#duration_mins.loc[random.sample(range(1, 20), 5)] = 'missing'\n",
    "itinery_df = pd.concat([duration_mins, work_type_series, loc_series, hour_rates], axis=1)\n",
    "#itinery_df['duration_mins'] = itinery_df['duration_mins'].astype(str)\n",
    "itinery_df.head()"
   ]
  },
  {
   "cell_type": "markdown",
   "metadata": {
    "slideshow": {
     "slide_type": "slide"
    }
   },
   "source": [
    "## Part 1:\n",
    "\n",
    "Calculate the total working minutes (`durantion_mins`) by city, and answer which city has the highest total working minutes.\n",
    "\n",
    "__HINT__: use `.groupby()` with the aggregation function as `sum`."
   ]
  },
  {
   "cell_type": "code",
   "execution_count": 52,
   "metadata": {},
   "outputs": [
    {
     "data": {
      "text/html": [
       "<div>\n",
       "<style scoped>\n",
       "    .dataframe tbody tr th:only-of-type {\n",
       "        vertical-align: middle;\n",
       "    }\n",
       "\n",
       "    .dataframe tbody tr th {\n",
       "        vertical-align: top;\n",
       "    }\n",
       "\n",
       "    .dataframe thead tr th {\n",
       "        text-align: left;\n",
       "    }\n",
       "\n",
       "    .dataframe thead tr:last-of-type th {\n",
       "        text-align: right;\n",
       "    }\n",
       "</style>\n",
       "<table border=\"1\" class=\"dataframe\">\n",
       "  <thead>\n",
       "    <tr>\n",
       "      <th></th>\n",
       "      <th>duration_mins</th>\n",
       "    </tr>\n",
       "    <tr>\n",
       "      <th></th>\n",
       "      <th>sum</th>\n",
       "    </tr>\n",
       "    <tr>\n",
       "      <th>locations</th>\n",
       "      <th></th>\n",
       "    </tr>\n",
       "  </thead>\n",
       "  <tbody>\n",
       "    <tr>\n",
       "      <th>Beijing, China</th>\n",
       "      <td>6664</td>\n",
       "    </tr>\n",
       "    <tr>\n",
       "      <th>London, England</th>\n",
       "      <td>4279</td>\n",
       "    </tr>\n",
       "    <tr>\n",
       "      <th>Madrid, Spain</th>\n",
       "      <td>1499</td>\n",
       "    </tr>\n",
       "    <tr>\n",
       "      <th>Mumbai, India</th>\n",
       "      <td>11760</td>\n",
       "    </tr>\n",
       "    <tr>\n",
       "      <th>Munich, Germany</th>\n",
       "      <td>4598</td>\n",
       "    </tr>\n",
       "    <tr>\n",
       "      <th>Paris, France</th>\n",
       "      <td>7049</td>\n",
       "    </tr>\n",
       "    <tr>\n",
       "      <th>Sydney, Australia</th>\n",
       "      <td>5052</td>\n",
       "    </tr>\n",
       "  </tbody>\n",
       "</table>\n",
       "</div>"
      ],
      "text/plain": [
       "                  duration_mins\n",
       "                            sum\n",
       "locations                      \n",
       "Beijing, China             6664\n",
       "London, England            4279\n",
       "Madrid, Spain              1499\n",
       "Mumbai, India             11760\n",
       "Munich, Germany            4598\n",
       "Paris, France              7049\n",
       "Sydney, Australia          5052"
      ]
     },
     "execution_count": 52,
     "metadata": {},
     "output_type": "execute_result"
    }
   ],
   "source": [
    "itinery_df.groupby('locations').agg({'duration_mins': ['sum']}).round(0).head(10)"
   ]
  },
  {
   "cell_type": "markdown",
   "metadata": {
    "slideshow": {
     "slide_type": "slide"
    }
   },
   "source": [
    "## Part 2:\n",
    "\n",
    "Without using the `.describe()` method, calculate the `count`, `min`, `max`, `std`, `mean` of `hour_rates` grouped by `work_types`."
   ]
  },
  {
   "cell_type": "code",
   "execution_count": 53,
   "metadata": {},
   "outputs": [
    {
     "data": {
      "text/html": [
       "<div>\n",
       "<style scoped>\n",
       "    .dataframe tbody tr th:only-of-type {\n",
       "        vertical-align: middle;\n",
       "    }\n",
       "\n",
       "    .dataframe tbody tr th {\n",
       "        vertical-align: top;\n",
       "    }\n",
       "\n",
       "    .dataframe thead th {\n",
       "        text-align: right;\n",
       "    }\n",
       "</style>\n",
       "<table border=\"1\" class=\"dataframe\">\n",
       "  <thead>\n",
       "    <tr style=\"text-align: right;\">\n",
       "      <th></th>\n",
       "      <th>count</th>\n",
       "      <th>mean</th>\n",
       "      <th>std</th>\n",
       "      <th>min</th>\n",
       "      <th>25%</th>\n",
       "      <th>50%</th>\n",
       "      <th>75%</th>\n",
       "      <th>max</th>\n",
       "    </tr>\n",
       "    <tr>\n",
       "      <th>work_types</th>\n",
       "      <th></th>\n",
       "      <th></th>\n",
       "      <th></th>\n",
       "      <th></th>\n",
       "      <th></th>\n",
       "      <th></th>\n",
       "      <th></th>\n",
       "      <th></th>\n",
       "    </tr>\n",
       "  </thead>\n",
       "  <tbody>\n",
       "    <tr>\n",
       "      <th>consulting</th>\n",
       "      <td>20.0</td>\n",
       "      <td>15.313500</td>\n",
       "      <td>3.181529</td>\n",
       "      <td>10.15</td>\n",
       "      <td>12.1100</td>\n",
       "      <td>16.145</td>\n",
       "      <td>17.7475</td>\n",
       "      <td>19.91</td>\n",
       "    </tr>\n",
       "    <tr>\n",
       "      <th>lecture</th>\n",
       "      <td>14.0</td>\n",
       "      <td>14.892857</td>\n",
       "      <td>2.424717</td>\n",
       "      <td>11.18</td>\n",
       "      <td>13.1750</td>\n",
       "      <td>14.180</td>\n",
       "      <td>17.4250</td>\n",
       "      <td>18.39</td>\n",
       "    </tr>\n",
       "    <tr>\n",
       "      <th>research</th>\n",
       "      <td>16.0</td>\n",
       "      <td>14.506250</td>\n",
       "      <td>2.301764</td>\n",
       "      <td>10.85</td>\n",
       "      <td>12.5425</td>\n",
       "      <td>14.650</td>\n",
       "      <td>16.0500</td>\n",
       "      <td>17.72</td>\n",
       "    </tr>\n",
       "  </tbody>\n",
       "</table>\n",
       "</div>"
      ],
      "text/plain": [
       "            count       mean       std    min      25%     50%      75%    max\n",
       "work_types                                                                    \n",
       "consulting   20.0  15.313500  3.181529  10.15  12.1100  16.145  17.7475  19.91\n",
       "lecture      14.0  14.892857  2.424717  11.18  13.1750  14.180  17.4250  18.39\n",
       "research     16.0  14.506250  2.301764  10.85  12.5425  14.650  16.0500  17.72"
      ]
     },
     "execution_count": 53,
     "metadata": {},
     "output_type": "execute_result"
    }
   ],
   "source": [
    "itinery_df.groupby('work_types')['hour_rates'].describe()"
   ]
  },
  {
   "cell_type": "code",
   "execution_count": 69,
   "metadata": {},
   "outputs": [
    {
     "data": {
      "text/html": [
       "<div>\n",
       "<style scoped>\n",
       "    .dataframe tbody tr th:only-of-type {\n",
       "        vertical-align: middle;\n",
       "    }\n",
       "\n",
       "    .dataframe tbody tr th {\n",
       "        vertical-align: top;\n",
       "    }\n",
       "\n",
       "    .dataframe thead th {\n",
       "        text-align: right;\n",
       "    }\n",
       "</style>\n",
       "<table border=\"1\" class=\"dataframe\">\n",
       "  <thead>\n",
       "    <tr style=\"text-align: right;\">\n",
       "      <th></th>\n",
       "      <th>count_nonzero</th>\n",
       "      <th>mean</th>\n",
       "      <th>std</th>\n",
       "      <th>amin</th>\n",
       "      <th>amax</th>\n",
       "    </tr>\n",
       "    <tr>\n",
       "      <th>work_types</th>\n",
       "      <th></th>\n",
       "      <th></th>\n",
       "      <th></th>\n",
       "      <th></th>\n",
       "      <th></th>\n",
       "    </tr>\n",
       "  </thead>\n",
       "  <tbody>\n",
       "    <tr>\n",
       "      <th>consulting</th>\n",
       "      <td>20.0</td>\n",
       "      <td>15.313500</td>\n",
       "      <td>3.181529</td>\n",
       "      <td>10.15</td>\n",
       "      <td>19.91</td>\n",
       "    </tr>\n",
       "    <tr>\n",
       "      <th>lecture</th>\n",
       "      <td>14.0</td>\n",
       "      <td>14.892857</td>\n",
       "      <td>2.424717</td>\n",
       "      <td>11.18</td>\n",
       "      <td>18.39</td>\n",
       "    </tr>\n",
       "    <tr>\n",
       "      <th>research</th>\n",
       "      <td>16.0</td>\n",
       "      <td>14.506250</td>\n",
       "      <td>2.301764</td>\n",
       "      <td>10.85</td>\n",
       "      <td>17.72</td>\n",
       "    </tr>\n",
       "  </tbody>\n",
       "</table>\n",
       "</div>"
      ],
      "text/plain": [
       "            count_nonzero       mean       std   amin   amax\n",
       "work_types                                                  \n",
       "consulting           20.0  15.313500  3.181529  10.15  19.91\n",
       "lecture              14.0  14.892857  2.424717  11.18  18.39\n",
       "research             16.0  14.506250  2.301764  10.85  17.72"
      ]
     },
     "execution_count": 69,
     "metadata": {},
     "output_type": "execute_result"
    }
   ],
   "source": [
    "itinery_df.groupby('work_types')['hour_rates'].agg([np.count_nonzero, \n",
    "                                        np.mean, np.std, np.min, np.max])"
   ]
  },
  {
   "cell_type": "markdown",
   "metadata": {
    "slideshow": {
     "slide_type": "slide"
    }
   },
   "source": [
    "## Part 3:\n",
    "\n",
    "Print out subset of `itinery_df` by different `locations`"
   ]
  },
  {
   "cell_type": "code",
   "execution_count": 58,
   "metadata": {},
   "outputs": [
    {
     "data": {
      "text/plain": [
       "array(['Mumbai, India', 'Munich, Germany', 'Paris, France',\n",
       "       'Madrid, Spain', 'Sydney, Australia', 'London, England',\n",
       "       'Beijing, China'], dtype=object)"
      ]
     },
     "execution_count": 58,
     "metadata": {},
     "output_type": "execute_result"
    }
   ],
   "source": [
    "itinery_df['locations'].unique()"
   ]
  },
  {
   "cell_type": "code",
   "execution_count": 68,
   "metadata": {},
   "outputs": [
    {
     "name": "stdout",
     "output_type": "stream",
     "text": [
      "('Beijing, China',     duration_mins  work_types       locations  hour_rates\n",
      "12            726    research  Beijing, China       11.50\n",
      "13            765     lecture  Beijing, China       13.70\n",
      "23           1367  consulting  Beijing, China       10.70\n",
      "35           1397  consulting  Beijing, China       12.46\n",
      "43            359     lecture  Beijing, China       11.18\n",
      "44            993    research  Beijing, China       15.59\n",
      "49           1057    research  Beijing, China       15.58)\n",
      "('London, England',     duration_mins  work_types        locations  hour_rates\n",
      "9            1276     lecture  London, England       18.39\n",
      "11           1312  consulting  London, England       12.21\n",
      "29              2  consulting  London, England       11.81\n",
      "30           1225     lecture  London, England       14.97\n",
      "34            363    research  London, England       13.13\n",
      "38            101    research  London, England       16.38)\n",
      "('Madrid, Spain',     duration_mins  work_types      locations  hour_rates\n",
      "5             562     lecture  Madrid, Spain       17.74\n",
      "7              67     lecture  Madrid, Spain       13.88\n",
      "20            124  consulting  Madrid, Spain       16.23\n",
      "26            577    research  Madrid, Spain       17.63\n",
      "32            169  consulting  Madrid, Spain       10.15)\n",
      "('Mumbai, India',     duration_mins  work_types      locations  hour_rates\n",
      "0            1460  consulting  Mumbai, India       17.78\n",
      "1            1413  consulting  Mumbai, India       16.70\n",
      "15            105    research  Mumbai, India       14.73\n",
      "27            957    research  Mumbai, India       12.75\n",
      "31            429     lecture  Mumbai, India       16.87\n",
      "36           1624  consulting  Mumbai, India       19.01\n",
      "39           1032  consulting  Mumbai, India       19.30\n",
      "42            891    research  Mumbai, India       10.85\n",
      "46           1536     lecture  Mumbai, India       14.48\n",
      "47            896    research  Mumbai, India       17.72\n",
      "48           1417  consulting  Mumbai, India       17.26)\n",
      "('Munich, Germany',     duration_mins  work_types        locations  hour_rates\n",
      "2             238    research  Munich, Germany       11.92\n",
      "6             141  consulting  Munich, Germany       17.60\n",
      "10           1020  consulting  Munich, Germany       16.06\n",
      "18            812     lecture  Munich, Germany       13.00\n",
      "19           1000    research  Munich, Germany       14.57\n",
      "21            641  consulting  Munich, Germany       15.33\n",
      "45            746     lecture  Munich, Germany       18.14)\n",
      "('Paris, France',     duration_mins  work_types      locations  hour_rates\n",
      "3             674     lecture  Paris, France       12.76\n",
      "4             372     lecture  Paris, France       11.97\n",
      "14           1790  consulting  Paris, France       10.96\n",
      "16           1327     lecture  Paris, France       13.81\n",
      "17           1374    research  Paris, France       14.27\n",
      "25            241     lecture  Paris, France       17.61\n",
      "28            139  consulting  Paris, France       11.55\n",
      "37            604  consulting  Paris, France       15.74\n",
      "40            528    research  Paris, France       11.84)\n",
      "('Sydney, Australia',     duration_mins  work_types          locations  hour_rates\n",
      "8            1398    research  Sydney, Australia       17.70\n",
      "22            942    research  Sydney, Australia       15.94\n",
      "24            212  consulting  Sydney, Australia       17.77\n",
      "33           1372  consulting  Sydney, Australia       19.91\n",
      "41           1128  consulting  Sydney, Australia       17.74)\n"
     ]
    }
   ],
   "source": [
    "grouped = itinery_df.groupby('locations')\n",
    "grouped\n",
    "for group in grouped:\n",
    "    print(group)"
   ]
  },
  {
   "cell_type": "markdown",
   "metadata": {},
   "source": [
    "## Part 4:\n",
    "\n",
    "Use `.pivot_table` to compare which `location` has the highest `hour_rate`."
   ]
  },
  {
   "cell_type": "code",
   "execution_count": 62,
   "metadata": {},
   "outputs": [
    {
     "data": {
      "text/html": [
       "<div>\n",
       "<style scoped>\n",
       "    .dataframe tbody tr th:only-of-type {\n",
       "        vertical-align: middle;\n",
       "    }\n",
       "\n",
       "    .dataframe tbody tr th {\n",
       "        vertical-align: top;\n",
       "    }\n",
       "\n",
       "    .dataframe thead th {\n",
       "        text-align: right;\n",
       "    }\n",
       "</style>\n",
       "<table border=\"1\" class=\"dataframe\">\n",
       "  <thead>\n",
       "    <tr style=\"text-align: right;\">\n",
       "      <th></th>\n",
       "      <th>hour_rates</th>\n",
       "    </tr>\n",
       "    <tr>\n",
       "      <th>locations</th>\n",
       "      <th></th>\n",
       "    </tr>\n",
       "  </thead>\n",
       "  <tbody>\n",
       "    <tr>\n",
       "      <th>Beijing, China</th>\n",
       "      <td>90.71</td>\n",
       "    </tr>\n",
       "    <tr>\n",
       "      <th>London, England</th>\n",
       "      <td>86.89</td>\n",
       "    </tr>\n",
       "    <tr>\n",
       "      <th>Madrid, Spain</th>\n",
       "      <td>75.63</td>\n",
       "    </tr>\n",
       "    <tr>\n",
       "      <th>Mumbai, India</th>\n",
       "      <td>177.45</td>\n",
       "    </tr>\n",
       "    <tr>\n",
       "      <th>Munich, Germany</th>\n",
       "      <td>106.62</td>\n",
       "    </tr>\n",
       "    <tr>\n",
       "      <th>Paris, France</th>\n",
       "      <td>120.51</td>\n",
       "    </tr>\n",
       "    <tr>\n",
       "      <th>Sydney, Australia</th>\n",
       "      <td>89.06</td>\n",
       "    </tr>\n",
       "  </tbody>\n",
       "</table>\n",
       "</div>"
      ],
      "text/plain": [
       "                   hour_rates\n",
       "locations                    \n",
       "Beijing, China          90.71\n",
       "London, England         86.89\n",
       "Madrid, Spain           75.63\n",
       "Mumbai, India          177.45\n",
       "Munich, Germany        106.62\n",
       "Paris, France          120.51\n",
       "Sydney, Australia       89.06"
      ]
     },
     "execution_count": 62,
     "metadata": {},
     "output_type": "execute_result"
    }
   ],
   "source": [
    "itinery_df.pivot_table(index=['locations'],\n",
    "                    values=['hour_rates'], aggfunc='sum')"
   ]
  },
  {
   "cell_type": "markdown",
   "metadata": {},
   "source": [
    "## Part 5:\n",
    "\n",
    "Show the relative frequencies of `work_types` over different `locations`. (__HINT__: use `crosstab()`)"
   ]
  },
  {
   "cell_type": "code",
   "execution_count": 66,
   "metadata": {},
   "outputs": [
    {
     "data": {
      "text/html": [
       "<div>\n",
       "<style scoped>\n",
       "    .dataframe tbody tr th:only-of-type {\n",
       "        vertical-align: middle;\n",
       "    }\n",
       "\n",
       "    .dataframe tbody tr th {\n",
       "        vertical-align: top;\n",
       "    }\n",
       "\n",
       "    .dataframe thead th {\n",
       "        text-align: right;\n",
       "    }\n",
       "</style>\n",
       "<table border=\"1\" class=\"dataframe\">\n",
       "  <thead>\n",
       "    <tr style=\"text-align: right;\">\n",
       "      <th>locations</th>\n",
       "      <th>Beijing, China</th>\n",
       "      <th>London, England</th>\n",
       "      <th>Madrid, Spain</th>\n",
       "      <th>Mumbai, India</th>\n",
       "      <th>Munich, Germany</th>\n",
       "      <th>Paris, France</th>\n",
       "      <th>Sydney, Australia</th>\n",
       "    </tr>\n",
       "    <tr>\n",
       "      <th>work_types</th>\n",
       "      <th></th>\n",
       "      <th></th>\n",
       "      <th></th>\n",
       "      <th></th>\n",
       "      <th></th>\n",
       "      <th></th>\n",
       "      <th></th>\n",
       "    </tr>\n",
       "  </thead>\n",
       "  <tbody>\n",
       "    <tr>\n",
       "      <th>consulting</th>\n",
       "      <td>0.04</td>\n",
       "      <td>0.04</td>\n",
       "      <td>0.04</td>\n",
       "      <td>0.10</td>\n",
       "      <td>0.06</td>\n",
       "      <td>0.06</td>\n",
       "      <td>0.06</td>\n",
       "    </tr>\n",
       "    <tr>\n",
       "      <th>lecture</th>\n",
       "      <td>0.04</td>\n",
       "      <td>0.04</td>\n",
       "      <td>0.04</td>\n",
       "      <td>0.04</td>\n",
       "      <td>0.04</td>\n",
       "      <td>0.08</td>\n",
       "      <td>0.00</td>\n",
       "    </tr>\n",
       "    <tr>\n",
       "      <th>research</th>\n",
       "      <td>0.06</td>\n",
       "      <td>0.04</td>\n",
       "      <td>0.02</td>\n",
       "      <td>0.08</td>\n",
       "      <td>0.04</td>\n",
       "      <td>0.04</td>\n",
       "      <td>0.04</td>\n",
       "    </tr>\n",
       "  </tbody>\n",
       "</table>\n",
       "</div>"
      ],
      "text/plain": [
       "locations   Beijing, China  London, England  Madrid, Spain  Mumbai, India  \\\n",
       "work_types                                                                  \n",
       "consulting            0.04             0.04           0.04           0.10   \n",
       "lecture               0.04             0.04           0.04           0.04   \n",
       "research              0.06             0.04           0.02           0.08   \n",
       "\n",
       "locations   Munich, Germany  Paris, France  Sydney, Australia  \n",
       "work_types                                                     \n",
       "consulting             0.06           0.06               0.06  \n",
       "lecture                0.04           0.08               0.00  \n",
       "research               0.04           0.04               0.04  "
      ]
     },
     "execution_count": 66,
     "metadata": {},
     "output_type": "execute_result"
    }
   ],
   "source": [
    "pd.crosstab(index=itinery_df['work_types'], columns=itinery_df['locations'], normalize='all').round(5)"
   ]
  },
  {
   "cell_type": "markdown",
   "metadata": {
    "slideshow": {
     "slide_type": "slide"
    }
   },
   "source": [
    "# Classwork (start here in class)\n",
    "You can start working on them right now:\n",
    "- Read Chapter 10 in PD4E \n",
    "- If time permits, start in on your homework. \n",
    "- Ask questions when you need help. Use this time to get help from the professor!\n",
    "\n",
    "# Homework (do at home)\n",
    "The following is due before class next week:\n",
    "  - Any remaining classwork from tonight\n",
    "  - DataCamp “Bringing it all together” assignment\n",
    "  - Coding assignment pt. 4\n",
    "\n",
    "Note: All work on DataCamp is logged. Don't try to fake it!\n",
    "\n",
    "Please email [me](mailto:jtao@fairfield.edu) if you have any problems or questions."
   ]
  },
  {
   "cell_type": "markdown",
   "metadata": {
    "slideshow": {
     "slide_type": "slide"
    }
   },
   "source": [
    "![DSB logo](img/Dolan.jpg)\n",
    "# Groupby and Pivoting\n",
    "\n",
    "## PD4E Chapter 10: Groupby Operations: Split-Apply-Combine\n",
    "### How do you read/manipulate/store data in Python?"
   ]
  },
  {
   "cell_type": "code",
   "execution_count": null,
   "metadata": {},
   "outputs": [],
   "source": []
  }
 ],
 "metadata": {
  "celltoolbar": "Slideshow",
  "kernelspec": {
   "display_name": "Python 3",
   "language": "python",
   "name": "python3"
  },
  "language_info": {
   "codemirror_mode": {
    "name": "ipython",
    "version": 3
   },
   "file_extension": ".py",
   "mimetype": "text/x-python",
   "name": "python",
   "nbconvert_exporter": "python",
   "pygments_lexer": "ipython3",
   "version": "3.6.7"
  }
 },
 "nbformat": 4,
 "nbformat_minor": 2
}
